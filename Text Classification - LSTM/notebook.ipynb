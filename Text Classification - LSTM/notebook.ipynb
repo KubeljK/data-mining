{
 "cells": [
  {
   "cell_type": "code",
   "execution_count": 18,
   "metadata": {},
   "outputs": [],
   "source": [
    "# Required imports\n",
    "import torch\n",
    "import torchtext\n",
    "import pandas as pd\n",
    "from sklearn.model_selection import train_test_split\n",
    "import urllib\n",
    "\n",
    "from gensim.parsing.preprocessing import preprocess_string, strip_punctuation\n",
    "\n",
    "import utils\n",
    "\n",
    "device = torch.device('cuda' if torch.cuda.is_available() else 'cpu')  "
   ]
  },
  {
   "cell_type": "markdown",
   "metadata": {},
   "source": [
    "## 1. Data importing and preprocessing"
   ]
  },
  {
   "cell_type": "code",
   "execution_count": 19,
   "metadata": {},
   "outputs": [
    {
     "data": {
      "text/html": [
       "<div>\n",
       "<style scoped>\n",
       "    .dataframe tbody tr th:only-of-type {\n",
       "        vertical-align: middle;\n",
       "    }\n",
       "\n",
       "    .dataframe tbody tr th {\n",
       "        vertical-align: top;\n",
       "    }\n",
       "\n",
       "    .dataframe thead th {\n",
       "        text-align: right;\n",
       "    }\n",
       "</style>\n",
       "<table border=\"1\" class=\"dataframe\">\n",
       "  <thead>\n",
       "    <tr style=\"text-align: right;\">\n",
       "      <th></th>\n",
       "      <th>Unnamed: 0</th>\n",
       "      <th>date_created</th>\n",
       "      <th>date_fetched</th>\n",
       "      <th>feed_source_id</th>\n",
       "      <th>id</th>\n",
       "      <th>image_link</th>\n",
       "      <th>link</th>\n",
       "      <th>rating</th>\n",
       "      <th>summary</th>\n",
       "      <th>title</th>\n",
       "    </tr>\n",
       "  </thead>\n",
       "  <tbody>\n",
       "    <tr>\n",
       "      <th>0</th>\n",
       "      <td>0</td>\n",
       "      <td>2020-04-29 16:05:12+00:00</td>\n",
       "      <td>2020-04-29 17:52:15.645886+00:00</td>\n",
       "      <td>9</td>\n",
       "      <td>318</td>\n",
       "      <td>https://www.delo.si/images/slike/2020/04/29/o_...</td>\n",
       "      <td>https://www.delo.si/novice/slovenija/pocivalse...</td>\n",
       "      <td>0</td>\n",
       "      <td>Konkretnih rešitev še ni, prvi pa naj bi na Hr...</td>\n",
       "      <td>Počivalšek in Cappelli o odpiranju hrvaške mej...</td>\n",
       "    </tr>\n",
       "    <tr>\n",
       "      <th>1</th>\n",
       "      <td>1</td>\n",
       "      <td>2020-04-29 13:53:40+00:00</td>\n",
       "      <td>2020-04-29 17:52:23.109152+00:00</td>\n",
       "      <td>18</td>\n",
       "      <td>328</td>\n",
       "      <td>http://www.arvio.si/wp-content/uploads/2020/03...</td>\n",
       "      <td>https://www.24ur.com/novice/korona/hrvaski-min...</td>\n",
       "      <td>0</td>\n",
       "      <td>Gospodarski minister Zdravko Počivalšek in hr...</td>\n",
       "      <td>Na Hrvaško naprej slovenski lastniki nepremičn...</td>\n",
       "    </tr>\n",
       "    <tr>\n",
       "      <th>2</th>\n",
       "      <td>2</td>\n",
       "      <td>2020-04-29 12:58:35+00:00</td>\n",
       "      <td>2020-04-29 17:52:14.902398+00:00</td>\n",
       "      <td>8</td>\n",
       "      <td>317</td>\n",
       "      <td>https://img.rtvslo.si/_up/upload/2020/04/29/65...</td>\n",
       "      <td>https://www.rtvslo.si/svet/azija-z-oceanijo/v-...</td>\n",
       "      <td>0</td>\n",
       "      <td>V južnokorejskem mestu Icheon je zagorelo na g...</td>\n",
       "      <td>V požaru v Južni Koreji umrlo najmanj 36 ljudi</td>\n",
       "    </tr>\n",
       "    <tr>\n",
       "      <th>3</th>\n",
       "      <td>3</td>\n",
       "      <td>2020-04-29 12:30:00+00:00</td>\n",
       "      <td>2020-04-29 17:52:21.202361+00:00</td>\n",
       "      <td>17</td>\n",
       "      <td>323</td>\n",
       "      <td>https://www.dnevnik.si/i/orig/2020/04/29/12352...</td>\n",
       "      <td>https://www.dnevnik.si/1042928232/kronika/v-ju...</td>\n",
       "      <td>0</td>\n",
       "      <td>Požar na gradbišču skladišča v južnokorejskem ...</td>\n",
       "      <td>V Južni Koreji več mrtvih v požaru na gradbišču</td>\n",
       "    </tr>\n",
       "    <tr>\n",
       "      <th>4</th>\n",
       "      <td>4</td>\n",
       "      <td>2020-04-29 10:02:00+00:00</td>\n",
       "      <td>2020-04-29 17:52:16.529798+00:00</td>\n",
       "      <td>10</td>\n",
       "      <td>319</td>\n",
       "      <td>https://siol.net//media/img/fd/36/facc0e367117...</td>\n",
       "      <td>https://siol.net/novice/slovenija/lastniki-nep...</td>\n",
       "      <td>0</td>\n",
       "      <td>Gospodarski minister Zdravko Počivalšek in hrv...</td>\n",
       "      <td>Lastniki nepremičnin na Hrvaškem maja že čez m...</td>\n",
       "    </tr>\n",
       "  </tbody>\n",
       "</table>\n",
       "</div>"
      ],
      "text/plain": [
       "   Unnamed: 0               date_created                      date_fetched  \\\n",
       "0           0  2020-04-29 16:05:12+00:00  2020-04-29 17:52:15.645886+00:00   \n",
       "1           1  2020-04-29 13:53:40+00:00  2020-04-29 17:52:23.109152+00:00   \n",
       "2           2  2020-04-29 12:58:35+00:00  2020-04-29 17:52:14.902398+00:00   \n",
       "3           3  2020-04-29 12:30:00+00:00  2020-04-29 17:52:21.202361+00:00   \n",
       "4           4  2020-04-29 10:02:00+00:00  2020-04-29 17:52:16.529798+00:00   \n",
       "\n",
       "   feed_source_id   id                                         image_link  \\\n",
       "0               9  318  https://www.delo.si/images/slike/2020/04/29/o_...   \n",
       "1              18  328  http://www.arvio.si/wp-content/uploads/2020/03...   \n",
       "2               8  317  https://img.rtvslo.si/_up/upload/2020/04/29/65...   \n",
       "3              17  323  https://www.dnevnik.si/i/orig/2020/04/29/12352...   \n",
       "4              10  319  https://siol.net//media/img/fd/36/facc0e367117...   \n",
       "\n",
       "                                                link  rating  \\\n",
       "0  https://www.delo.si/novice/slovenija/pocivalse...       0   \n",
       "1  https://www.24ur.com/novice/korona/hrvaski-min...       0   \n",
       "2  https://www.rtvslo.si/svet/azija-z-oceanijo/v-...       0   \n",
       "3  https://www.dnevnik.si/1042928232/kronika/v-ju...       0   \n",
       "4  https://siol.net/novice/slovenija/lastniki-nep...       0   \n",
       "\n",
       "                                             summary  \\\n",
       "0  Konkretnih rešitev še ni, prvi pa naj bi na Hr...   \n",
       "1   Gospodarski minister Zdravko Počivalšek in hr...   \n",
       "2  V južnokorejskem mestu Icheon je zagorelo na g...   \n",
       "3  Požar na gradbišču skladišča v južnokorejskem ...   \n",
       "4  Gospodarski minister Zdravko Počivalšek in hrv...   \n",
       "\n",
       "                                               title  \n",
       "0  Počivalšek in Cappelli o odpiranju hrvaške mej...  \n",
       "1  Na Hrvaško naprej slovenski lastniki nepremičn...  \n",
       "2     V požaru v Južni Koreji umrlo najmanj 36 ljudi  \n",
       "3    V Južni Koreji več mrtvih v požaru na gradbišču  \n",
       "4  Lastniki nepremičnin na Hrvaškem maja že čez m...  "
      ]
     },
     "execution_count": 19,
     "metadata": {},
     "output_type": "execute_result"
    }
   ],
   "source": [
    "# Import raw data from CSV\n",
    "mydata = pd.read_csv(\"./feed_data.csv\")\n",
    "mydata.head()"
   ]
  },
  {
   "cell_type": "code",
   "execution_count": 20,
   "metadata": {},
   "outputs": [
    {
     "data": {
      "text/html": [
       "<div>\n",
       "<style scoped>\n",
       "    .dataframe tbody tr th:only-of-type {\n",
       "        vertical-align: middle;\n",
       "    }\n",
       "\n",
       "    .dataframe tbody tr th {\n",
       "        vertical-align: top;\n",
       "    }\n",
       "\n",
       "    .dataframe thead th {\n",
       "        text-align: right;\n",
       "    }\n",
       "</style>\n",
       "<table border=\"1\" class=\"dataframe\">\n",
       "  <thead>\n",
       "    <tr style=\"text-align: right;\">\n",
       "      <th></th>\n",
       "      <th>text</th>\n",
       "      <th>target</th>\n",
       "    </tr>\n",
       "  </thead>\n",
       "  <tbody>\n",
       "    <tr>\n",
       "      <th>0</th>\n",
       "      <td>Počivalšek in Cappelli o odpiranju hrvaške mej...</td>\n",
       "      <td>1</td>\n",
       "    </tr>\n",
       "    <tr>\n",
       "      <th>1</th>\n",
       "      <td>Na Hrvaško naprej slovenski lastniki nepremičn...</td>\n",
       "      <td>1</td>\n",
       "    </tr>\n",
       "    <tr>\n",
       "      <th>2</th>\n",
       "      <td>V požaru v Južni Koreji umrlo najmanj 36 ljudi...</td>\n",
       "      <td>1</td>\n",
       "    </tr>\n",
       "    <tr>\n",
       "      <th>3</th>\n",
       "      <td>V Južni Koreji več mrtvih v požaru na gradbišč...</td>\n",
       "      <td>1</td>\n",
       "    </tr>\n",
       "    <tr>\n",
       "      <th>4</th>\n",
       "      <td>Lastniki nepremičnin na Hrvaškem maja že čez m...</td>\n",
       "      <td>1</td>\n",
       "    </tr>\n",
       "  </tbody>\n",
       "</table>\n",
       "</div>"
      ],
      "text/plain": [
       "                                                text  target\n",
       "0  Počivalšek in Cappelli o odpiranju hrvaške mej...       1\n",
       "1  Na Hrvaško naprej slovenski lastniki nepremičn...       1\n",
       "2  V požaru v Južni Koreji umrlo najmanj 36 ljudi...       1\n",
       "3  V Južni Koreji več mrtvih v požaru na gradbišč...       1\n",
       "4  Lastniki nepremičnin na Hrvaškem maja že čez m...       1"
      ]
     },
     "execution_count": 20,
     "metadata": {},
     "output_type": "execute_result"
    }
   ],
   "source": [
    "# Set correct \"text\" and \"target\" columns.\n",
    "# \"text\" is concatenated from article title and summary.\n",
    "mydata[\"text\"] = mydata[\"title\"] + \" \" + mydata[\"summary\"]\n",
    "# If rating is positive, so is the \"target\" column\n",
    "mydata[\"target\"] = (mydata[\"rating\"] >= 0).astype(int)\n",
    "\n",
    "# Drop all unnecessary columns\n",
    "mydata.drop(mydata.columns.difference([\"text\",\"target\"]), 1, inplace=True)\n",
    "mydata.head()"
   ]
  },
  {
   "cell_type": "markdown",
   "metadata": {},
   "source": [
    "## 2. Prepare into Pytorch required form"
   ]
  },
  {
   "cell_type": "markdown",
   "metadata": {},
   "source": [
    "### 2.1. Train and Validation split"
   ]
  },
  {
   "cell_type": "code",
   "execution_count": 21,
   "metadata": {},
   "outputs": [
    {
     "data": {
      "text/html": [
       "<div>\n",
       "<style scoped>\n",
       "    .dataframe tbody tr th:only-of-type {\n",
       "        vertical-align: middle;\n",
       "    }\n",
       "\n",
       "    .dataframe tbody tr th {\n",
       "        vertical-align: top;\n",
       "    }\n",
       "\n",
       "    .dataframe thead th {\n",
       "        text-align: right;\n",
       "    }\n",
       "</style>\n",
       "<table border=\"1\" class=\"dataframe\">\n",
       "  <thead>\n",
       "    <tr style=\"text-align: right;\">\n",
       "      <th></th>\n",
       "      <th>text</th>\n",
       "      <th>target</th>\n",
       "    </tr>\n",
       "  </thead>\n",
       "  <tbody>\n",
       "    <tr>\n",
       "      <th>27</th>\n",
       "      <td>Vizjak napoveduje odvoz nakopičene embalaže na...</td>\n",
       "      <td>0</td>\n",
       "    </tr>\n",
       "    <tr>\n",
       "      <th>233</th>\n",
       "      <td>Prepoved premika čebelnjakov in čebeljih druži...</td>\n",
       "      <td>1</td>\n",
       "    </tr>\n",
       "    <tr>\n",
       "      <th>11</th>\n",
       "      <td>30. dopisna seja Vlade Republike Slovenije Vla...</td>\n",
       "      <td>1</td>\n",
       "    </tr>\n",
       "    <tr>\n",
       "      <th>181</th>\n",
       "      <td>Pravila, kdaj je gradbeno dovoljenje nujno in ...</td>\n",
       "      <td>1</td>\n",
       "    </tr>\n",
       "    <tr>\n",
       "      <th>105</th>\n",
       "      <td>Izvajanje projekta lokacijske izboljšave zemlj...</td>\n",
       "      <td>1</td>\n",
       "    </tr>\n",
       "  </tbody>\n",
       "</table>\n",
       "</div>"
      ],
      "text/plain": [
       "                                                  text  target\n",
       "27   Vizjak napoveduje odvoz nakopičene embalaže na...       0\n",
       "233  Prepoved premika čebelnjakov in čebeljih druži...       1\n",
       "11   30. dopisna seja Vlade Republike Slovenije Vla...       1\n",
       "181  Pravila, kdaj je gradbeno dovoljenje nujno in ...       1\n",
       "105  Izvajanje projekta lokacijske izboljšave zemlj...       1"
      ]
     },
     "execution_count": 21,
     "metadata": {},
     "output_type": "execute_result"
    }
   ],
   "source": [
    "# Split data into train and validation \n",
    "train_df, valid_df = train_test_split(mydata)\n",
    "train_df.head()"
   ]
  },
  {
   "cell_type": "markdown",
   "metadata": {},
   "source": [
    "### 2.2. Define Stopwords"
   ]
  },
  {
   "cell_type": "code",
   "execution_count": 22,
   "metadata": {},
   "outputs": [],
   "source": [
    "# Taken from https://github.com/stopwords-iso/stopwords-sl/blob/master/stopwords-sl.json\n",
    "stopwords = [\"še\", \".\", \"-\", \"2019\", \"28.3.2019\", \"(28.3.2019)\", \"–\", \"a\",\"ali\",\"april\",\"avgust\",\"b\",\"bi\",\"bil\",\"bila\",\"bile\",\"bili\",\"bilo\",\"biti\",\"blizu\",\"bo\",\"bodo\",\"bojo\",\"bolj\",\"bom\",\"bomo\",\"boste\",\"bova\",\"boš\",\"brez\",\"c\",\"cel\",\"cela\",\"celi\",\"celo\",\"d\",\"da\",\"daleč\",\"dan\",\"danes\",\"datum\",\"december\",\"deset\",\"deseta\",\"deseti\",\"deseto\",\"devet\",\"deveta\",\"deveti\",\"deveto\",\"do\",\"dober\",\"dobra\",\"dobri\",\"dobro\",\"dokler\",\"dol\",\"dolg\",\"dolga\",\"dolgi\",\"dovolj\",\"drug\",\"druga\",\"drugi\",\"drugo\",\"dva\",\"dve\",\"e\",\"eden\",\"en\",\"ena\",\"ene\",\"eni\",\"enkrat\",\"eno\",\"etc.\",\"f\",\"februar\",\"g\",\"g.\",\"ga\",\"ga.\",\"gor\",\"gospa\",\"gospod\",\"h\",\"halo\",\"i\",\"idr.\",\"ii\",\"iii\",\"in\",\"iv\",\"ix\",\"iz\",\"j\",\"januar\",\"jaz\",\"je\",\"ji\",\"jih\",\"jim\",\"jo\",\"julij\",\"junij\",\"jutri\",\"k\",\"kadarkoli\",\"kaj\",\"kajti\",\"kako\",\"kakor\",\"kamor\",\"kamorkoli\",\"kar\",\"karkoli\",\"katerikoli\",\"kdaj\",\"kdo\",\"kdorkoli\",\"ker\",\"ki\",\"kje\",\"kjer\",\"kjerkoli\",\"ko\",\"koder\",\"koderkoli\",\"koga\",\"komu\",\"kot\",\"kratek\",\"kratka\",\"kratke\",\"kratki\",\"l\",\"lahka\",\"lahke\",\"lahki\",\"lahko\",\"le\",\"lep\",\"lepa\",\"lepe\",\"lepi\",\"lepo\",\"leto\",\"m\",\"maj\",\"majhen\",\"majhna\",\"majhni\",\"malce\",\"malo\",\"manj\",\"marec\",\"me\",\"med\",\"medtem\",\"mene\",\"mesec\",\"mi\",\"midva\",\"midve\",\"mnogo\",\"moj\",\"moja\",\"moje\",\"mora\",\"morajo\",\"moram\",\"moramo\",\"morate\",\"moraš\",\"morem\",\"mu\",\"n\",\"na\",\"nad\",\"naj\",\"najina\",\"najino\",\"najmanj\",\"naju\",\"največ\",\"nam\",\"narobe\",\"nas\",\"nato\",\"nazaj\",\"naš\",\"naša\",\"naše\",\"ne\",\"nedavno\",\"nedelja\",\"nek\",\"neka\",\"nekaj\",\"nekatere\",\"nekateri\",\"nekatero\",\"nekdo\",\"neke\",\"nekega\",\"neki\",\"nekje\",\"neko\",\"nekoga\",\"nekoč\",\"ni\",\"nikamor\",\"nikdar\",\"nikjer\",\"nikoli\",\"nič\",\"nje\",\"njega\",\"njegov\",\"njegova\",\"njegovo\",\"njej\",\"njemu\",\"njen\",\"njena\",\"njeno\",\"nji\",\"njih\",\"njihov\",\"njihova\",\"njihovo\",\"njiju\",\"njim\",\"njo\",\"njun\",\"njuna\",\"njuno\",\"no\",\"nocoj\",\"november\",\"npr.\",\"o\",\"ob\",\"oba\",\"obe\",\"oboje\",\"od\",\"odprt\",\"odprta\",\"odprti\",\"okoli\",\"oktober\",\"on\",\"onadva\",\"one\",\"oni\",\"onidve\",\"osem\",\"osma\",\"osmi\",\"osmo\",\"oz.\",\"p\",\"pa\",\"pet\",\"peta\",\"petek\",\"peti\",\"peto\",\"po\",\"pod\",\"pogosto\",\"poleg\",\"poln\",\"polna\",\"polni\",\"polno\",\"ponavadi\",\"ponedeljek\",\"ponovno\",\"potem\",\"povsod\",\"pozdravljen\",\"pozdravljeni\",\"prav\",\"prava\",\"prave\",\"pravi\",\"pravo\",\"prazen\",\"prazna\",\"prazno\",\"prbl.\",\"precej\",\"pred\",\"prej\",\"preko\",\"pri\",\"pribl.\",\"približno\",\"primer\",\"pripravljen\",\"pripravljena\",\"pripravljeni\",\"proti\",\"prva\",\"prvi\",\"prvo\",\"r\",\"ravno\",\"redko\",\"res\",\"reč\",\"s\",\"saj\",\"sam\",\"sama\",\"same\",\"sami\",\"samo\",\"se\",\"sebe\",\"sebi\",\"sedaj\",\"sedem\",\"sedma\",\"sedmi\",\"sedmo\",\"sem\",\"september\",\"seveda\",\"si\",\"sicer\",\"skoraj\",\"skozi\",\"slab\",\"smo\",\"so\",\"sobota\",\"spet\",\"sreda\",\"srednja\",\"srednji\",\"sta\",\"ste\",\"stran\",\"stvar\",\"sva\",\"t\",\"ta\",\"tak\",\"taka\",\"take\",\"taki\",\"tako\",\"takoj\",\"tam\",\"te\",\"tebe\",\"tebi\",\"tega\",\"težak\",\"težka\",\"težki\",\"težko\",\"ti\",\"tista\",\"tiste\",\"tisti\",\"tisto\",\"tj.\",\"tja\",\"to\",\"toda\",\"torek\",\"tretja\",\"tretje\",\"tretji\",\"tri\",\"tu\",\"tudi\",\"tukaj\",\"tvoj\",\"tvoja\",\"tvoje\",\"u\",\"v\",\"vaju\",\"vam\",\"vas\",\"vaš\",\"vaša\",\"vaše\",\"ve\",\"vedno\",\"velik\",\"velika\",\"veliki\",\"veliko\",\"vendar\",\"ves\",\"več\",\"vi\",\"vidva\",\"vii\",\"viii\",\"visok\",\"visoka\",\"visoke\",\"visoki\",\"vsa\",\"vsaj\",\"vsak\",\"vsaka\",\"vsakdo\",\"vsake\",\"vsaki\",\"vsakomur\",\"vse\",\"vsega\",\"vsi\",\"vso\",\"včasih\",\"včeraj\",\"x\",\"z\",\"za\",\"zadaj\",\"zadnji\",\"zakaj\",\"zaprta\",\"zaprti\",\"zaprto\",\"zdaj\",\"zelo\",\"zunaj\",\"č\",\"če\",\"često\",\"četrta\",\"četrtek\",\"četrti\",\"četrto\",\"čez\",\"čigav\",\"š\",\"šest\",\"šesta\",\"šesti\",\"šesto\",\"štiri\",\"ž\",\"že\"]"
   ]
  },
  {
   "cell_type": "markdown",
   "metadata": {},
   "source": [
    "### 2.3. Define the Tokenizer"
   ]
  },
  {
   "cell_type": "code",
   "execution_count": 23,
   "metadata": {},
   "outputs": [],
   "source": [
    "def tokenize(text):\n",
    "    \"\"\"Tokenizes the provided text\n",
    "    Args:\n",
    "        text (str): The text to be tokenized\n",
    "    Returns:\n",
    "        list(tuple(str, int)): A list of (token, count) pairs from the text without the stopwords.\n",
    "    \"\"\"\n",
    "\n",
    "    # Make everything lowercase\n",
    "    custom_filters = [lambda x: x.lower()]\n",
    "    tokens = preprocess_string(text, custom_filters)\n",
    "\n",
    "    # Filter out all stopwords\n",
    "    filtered_tokens = [w for w in tokens if not w in stopwords]\n",
    "\n",
    "    # Return the filtered tokens\n",
    "    return filtered_tokens"
   ]
  },
  {
   "cell_type": "markdown",
   "metadata": {},
   "source": [
    "### 2.4. Define pyTorch fields and dataset"
   ]
  },
  {
   "cell_type": "code",
   "execution_count": 24,
   "metadata": {},
   "outputs": [],
   "source": [
    "# The following will help make the results reproducible later.\n",
    "SEED = 69\n",
    "torch.manual_seed(SEED)\n",
    "torch.backends.cudnn.deterministic = True\n",
    "torch.backends.cudnn.benchmark = False"
   ]
  },
  {
   "cell_type": "code",
   "execution_count": 25,
   "metadata": {},
   "outputs": [],
   "source": [
    "# Use the tokenizer we defined.\n",
    "TEXT = torchtext.data.Field(tokenize=tokenize, include_lengths=True, batch_first=True)\n",
    "# We preprocessed the labels to be integers, so use_vocab=False can be used.\n",
    "LABEL = torchtext.data.LabelField(use_vocab=False, dtype=torch.float, batch_first=True)"
   ]
  },
  {
   "cell_type": "code",
   "execution_count": 26,
   "metadata": {},
   "outputs": [],
   "source": [
    "# To use DataFrame as a Data source\n",
    "# source : https://gist.github.com/lextoumbourou/8f90313cbc3598ffbabeeaa1741a11c8\n",
    "\n",
    "class DataFrameDataset(torchtext.data.Dataset):\n",
    "\n",
    "    def __init__(self, df, fields, is_test=False, **kwargs):\n",
    "        examples = []\n",
    "        for i, row in df.iterrows():\n",
    "            label = row.target if not is_test else None\n",
    "            text = row.text\n",
    "            examples.append(torchtext.data.Example.fromlist([text, label], fields))\n",
    "\n",
    "        super().__init__(examples, fields, **kwargs)\n",
    "    \n",
    "    def __getitem__(self, idx):\n",
    "        return super().__getitem__(idx)\n",
    "    \n",
    "    @staticmethod\n",
    "    def sort_key(ex):\n",
    "        return len(ex.text)"
   ]
  },
  {
   "cell_type": "code",
   "execution_count": 27,
   "metadata": {},
   "outputs": [],
   "source": [
    "fields = [('text',TEXT), ('label',LABEL)]\n",
    "train_ds = DataFrameDataset(train_df, fields)\n",
    "valid_ds = DataFrameDataset(valid_df, fields)\n",
    "\n",
    "# Both \"train_ds\" and \"valid_ds\" are of type \"Dataset\"\n",
    "assert(isinstance(train_ds, torchtext.data.Dataset))\n",
    "assert(isinstance(valid_ds, torchtext.data.Dataset))"
   ]
  },
  {
   "cell_type": "code",
   "execution_count": 28,
   "metadata": {},
   "outputs": [
    {
     "name": "stdout",
     "output_type": "stream",
     "text": [
      "{'text': ['izvajanje', 'določb', 'zakona', 'začasnih', 'ukrepih', 'zvezi', 'sodnimi,', 'upravnimi', 'drugimi', 'javnopravnimi', 'zadevami', 'dne', '29.3.2020', 'začel', 'veljati', 'zakon', 'začasnih', 'ukrepih', 'zvezi', 'sodnimi,', 'upravnimi', 'drugimi', 'javnopravnimi', 'zadevami', 'obvladovanje', 'širjenja', 'nalezljive', 'bolezni', 'sars-cov-2', '(covid-19)', '(zzusudjz),', 'ureja', 'poslovanje', 'upravnih', 'drugih', 'javnopravnih', 'zadevah,', 'katerih', 'upravni', 'organi', 'vodijo', 'upravne', 'druge', 'postopke.', 'geodetska', 'uprava', 'republike', 'slovenije', 'zato', 'ukrepe', 'zakona', 'uvedla', 'upravne', 'postopke', 'področja', 'evidentiranja', 'nepremičnin.'], 'label': 0}\n",
      "<class 'torchtext.data.example.Example'>\n"
     ]
    }
   ],
   "source": [
    "# Lets look at a random example\n",
    "print(vars(train_ds[15]))\n",
    "\n",
    "# Check the type \n",
    "print(type(train_ds[15]))"
   ]
  },
  {
   "cell_type": "code",
   "execution_count": 29,
   "metadata": {},
   "outputs": [],
   "source": [
    "# Import custom vectors for Slovenian.\n",
    "url = 'https://dl.fbaipublicfiles.com/fasttext/vectors-wiki/wiki.sl.vec' \n",
    "urllib.request.urlretrieve(url, './wiki.sl.vec')\n",
    "myvectors = torchtext.vocab.Vectors(\"./wiki.sl.vec\")"
   ]
  },
  {
   "cell_type": "code",
   "execution_count": 30,
   "metadata": {},
   "outputs": [
    {
     "name": "stdout",
     "output_type": "stream",
     "text": [
      "Size of TEXT vocabulary: 4632\n",
      "Size of LABEL vocabulary: 2\n",
      "Most frequently used words: [('sir', 65), ('akutalne', 50), ('novice', 50), ('vrednosti', 38), ('dela', 35), ('ter', 30), ('slovenski', 30), ('1.', 27), ('nepremičnin', 26), ('zaradi', 25)]\n"
     ]
    }
   ],
   "source": [
    "# We will now build the vocabulary using only the training dataset.\n",
    "# This can be accessed through TEXT.vocab and will be shared by the validation dataset.\n",
    "TEXT.build_vocab(train_ds, vectors = myvectors)\n",
    "LABEL.build_vocab(train_ds)\n",
    "\n",
    "print(\"Size of TEXT vocabulary:\",len(TEXT.vocab))\n",
    "print(\"Size of LABEL vocabulary:\",len(LABEL.vocab))\n",
    "\n",
    "print(\"Most frequently used words:\", TEXT.vocab.freqs.most_common(10)) "
   ]
  },
  {
   "cell_type": "markdown",
   "metadata": {},
   "source": [
    "### 2.5. Build the iterators"
   ]
  },
  {
   "cell_type": "code",
   "execution_count": 31,
   "metadata": {},
   "outputs": [],
   "source": [
    "#set batch size\n",
    "BATCH_SIZE = 10\n",
    "\n",
    "#Load an iterator\n",
    "train_iterator = torchtext.data.BucketIterator(\n",
    "    train_ds, \n",
    "    batch_size = BATCH_SIZE,\n",
    "    sort_key = lambda x: len(x.text),\n",
    "    sort_within_batch=True,\n",
    "    device = device)\n",
    "\n",
    "\n",
    "valid_iterator = torchtext.data.BucketIterator(\n",
    "    valid_ds, \n",
    "    batch_size = BATCH_SIZE,\n",
    "    sort_key = lambda x: len(x.text),\n",
    "    sort_within_batch=True,\n",
    "    device = device)"
   ]
  },
  {
   "cell_type": "markdown",
   "metadata": {},
   "source": [
    "## 3. Implementing models"
   ]
  },
  {
   "cell_type": "markdown",
   "metadata": {},
   "source": [
    "### 3.1. LSTM Model"
   ]
  },
  {
   "cell_type": "code",
   "execution_count": 32,
   "metadata": {},
   "outputs": [],
   "source": [
    "class LSTM_net(torch.nn.Module):\n",
    "    # Define all the layers used in model\n",
    "    def __init__(self, vocab_size, embedding_dim, hidden_dim, output_dim, n_layers, \n",
    "                 bidirectional, dropout):\n",
    "        \n",
    "        #Constructor\n",
    "        super().__init__()          \n",
    "        \n",
    "        #embedding layer\n",
    "        self.embedding = torch.nn.Embedding(vocab_size, embedding_dim)\n",
    "        \n",
    "        #lstm layer\n",
    "        self.lstm = torch.nn.LSTM(embedding_dim, \n",
    "                           hidden_dim, \n",
    "                           num_layers=n_layers, \n",
    "                           bidirectional=bidirectional, \n",
    "                           dropout=dropout,\n",
    "                           batch_first=True)\n",
    "        \n",
    "        #dense layer\n",
    "        self.fc = torch.nn.Linear(hidden_dim * 2, output_dim)\n",
    "        \n",
    "        #activation function\n",
    "        self.act = torch.nn.Sigmoid()\n",
    "        \n",
    "    def forward(self, text, text_lengths):\n",
    "        \n",
    "        embedded = self.embedding(text)\n",
    "      \n",
    "        # Packed sequence\n",
    "        packed_embedded = torch.nn.utils.rnn.pack_padded_sequence(embedded, text_lengths,batch_first=True)\n",
    "        \n",
    "        packed_output, (hidden, cell) = self.lstm(packed_embedded)\n",
    "        \n",
    "        hidden = torch.cat((hidden[-2,:,:], hidden[-1,:,:]), dim = 1)\n",
    "        \n",
    "        dense_outputs=self.fc(hidden)\n",
    "\n",
    "        # Final activation function\n",
    "        outputs=self.act(dense_outputs)\n",
    "        \n",
    "        return outputs"
   ]
  },
  {
   "cell_type": "code",
   "execution_count": 46,
   "metadata": {},
   "outputs": [],
   "source": [
    "# The next step would be to define the hyperparameters and instantiate the model.\n",
    "size_of_vocab = len(TEXT.vocab)\n",
    "embedding_dim = 300\n",
    "num_hidden_nodes = 32\n",
    "num_output_nodes = 1\n",
    "num_layers = 2\n",
    "bidirection = True\n",
    "dropout = 0.2\n",
    "\n",
    "#instantiate the model\n",
    "model = LSTM_net(\n",
    "    size_of_vocab,\n",
    "    embedding_dim,\n",
    "    num_hidden_nodes,\n",
    "    num_output_nodes,\n",
    "    num_layers,\n",
    "    bidirectional = True,\n",
    "    dropout = dropout)"
   ]
  },
  {
   "cell_type": "markdown",
   "metadata": {},
   "source": [
    "##### Let us look at the model summary"
   ]
  },
  {
   "cell_type": "code",
   "execution_count": 47,
   "metadata": {},
   "outputs": [
    {
     "name": "stdout",
     "output_type": "stream",
     "text": [
      "Model architecture:  LSTM_net(\n",
      "  (embedding): Embedding(4632, 300)\n",
      "  (lstm): LSTM(300, 32, num_layers=2, batch_first=True, dropout=0.2, bidirectional=True)\n",
      "  (fc): Linear(in_features=64, out_features=1, bias=True)\n",
      "  (act): Sigmoid()\n",
      ")\n"
     ]
    }
   ],
   "source": [
    "print(\"Model architecture: \", model)"
   ]
  },
  {
   "cell_type": "code",
   "execution_count": 48,
   "metadata": {},
   "outputs": [
    {
     "name": "stdout",
     "output_type": "stream",
     "text": [
      "Number of trainable parameters:  1500257\n"
     ]
    }
   ],
   "source": [
    "print(\"Number of trainable parameters: \", utils.count_parameters(model))"
   ]
  },
  {
   "cell_type": "markdown",
   "metadata": {},
   "source": [
    "##### Initialize the embedding layer with the pretrained embeddings"
   ]
  },
  {
   "cell_type": "code",
   "execution_count": 49,
   "metadata": {},
   "outputs": [
    {
     "data": {
      "text/plain": [
       "tensor([[ 0.0000e+00,  0.0000e+00,  0.0000e+00,  ...,  0.0000e+00,\n",
       "          0.0000e+00,  0.0000e+00],\n",
       "        [ 0.0000e+00,  0.0000e+00,  0.0000e+00,  ...,  0.0000e+00,\n",
       "          0.0000e+00,  0.0000e+00],\n",
       "        [-3.1793e-01, -5.3257e-01, -1.6364e-01,  ..., -2.7699e-01,\n",
       "          5.0063e-01, -3.4038e-01],\n",
       "        ...,\n",
       "        [ 0.0000e+00,  0.0000e+00,  0.0000e+00,  ...,  0.0000e+00,\n",
       "          0.0000e+00,  0.0000e+00],\n",
       "        [ 4.2942e-01,  1.6698e-01,  1.8957e-01,  ..., -1.3900e-01,\n",
       "         -1.2008e-01,  1.6834e-01],\n",
       "        [ 2.3679e-01, -1.2987e-01,  8.4747e-02,  ..., -3.8223e-01,\n",
       "          1.4442e-02,  5.0372e-04]])"
      ]
     },
     "execution_count": 49,
     "metadata": {},
     "output_type": "execute_result"
    }
   ],
   "source": [
    "#Initialize the pretrained embedding\n",
    "pretrained_embeddings = TEXT.vocab.vectors\n",
    "model.embedding.weight.data.copy_(pretrained_embeddings)"
   ]
  },
  {
   "cell_type": "markdown",
   "metadata": {},
   "source": [
    "### 3.2. Define Optimizer and Loss functions"
   ]
  },
  {
   "cell_type": "code",
   "execution_count": 50,
   "metadata": {},
   "outputs": [],
   "source": [
    "# Define optimizer and loss\n",
    "optimizer = torch.optim.Adam(model.parameters(), lr=0.001)\n",
    "criterion = torch.nn.BCELoss()\n",
    "binary_accuracy = utils.binary_accuracy\n",
    "\n",
    "# Push to cuda if available\n",
    "model = model.to(device)\n",
    "criterion = criterion.to(device)"
   ]
  },
  {
   "cell_type": "markdown",
   "metadata": {},
   "source": [
    "### 3.3. Define functions for training the model"
   ]
  },
  {
   "cell_type": "code",
   "execution_count": 51,
   "metadata": {},
   "outputs": [],
   "source": [
    "def train_funct(model, iterator, optimizer, criterion):\n",
    "    \n",
    "    #initialize every epoch \n",
    "    epoch_loss = 0\n",
    "    epoch_acc = 0\n",
    "    \n",
    "    #set the model in training phase\n",
    "    model.train()  \n",
    "    \n",
    "    for batch in iterator:\n",
    "        #resets the gradients after every batch\n",
    "        optimizer.zero_grad()\n",
    "        #retrieve text and no. of words\n",
    "        text, text_lengths = batch.text\n",
    "        #convert to 1D tensor\n",
    "        predictions = model(text, text_lengths).squeeze()\n",
    "        #compute the loss\n",
    "        loss = criterion(predictions, batch.label)\n",
    "        #compute the binary accuracy\n",
    "        acc = binary_accuracy(predictions, batch.label)   \n",
    "        #backpropage the loss and compute the gradients\n",
    "        loss.backward()\n",
    "        #update the weights\n",
    "        optimizer.step()      \n",
    "        \n",
    "        #loss and accuracy\n",
    "        epoch_loss += loss.item()  \n",
    "        epoch_acc += acc.item()    \n",
    "        \n",
    "    return epoch_loss / len(iterator), epoch_acc / len(iterator)\n",
    "\n",
    "def evaluate_funct(model, iterator, criterion):\n",
    "    \n",
    "    #initialize every epoch\n",
    "    epoch_loss = 0\n",
    "    epoch_acc = 0\n",
    "\n",
    "    #deactivating dropout layers\n",
    "    model.eval()\n",
    "    \n",
    "    #deactivates autograd\n",
    "    with torch.no_grad():\n",
    "    \n",
    "        for batch in iterator:\n",
    "        \n",
    "            #retrieve text and no. of words\n",
    "            text, text_lengths = batch.text\n",
    "            \n",
    "            #convert to 1d tensor\n",
    "            predictions = model(text, text_lengths).squeeze()\n",
    "            \n",
    "            #compute loss and accuracy\n",
    "            loss = criterion(predictions, batch.label)\n",
    "            acc = binary_accuracy(predictions, batch.label)\n",
    "            \n",
    "            #keep track of loss and accuracy\n",
    "            epoch_loss += loss.item()\n",
    "            epoch_acc += acc.item()\n",
    "        \n",
    "    return epoch_loss / len(iterator), epoch_acc / len(iterator)"
   ]
  },
  {
   "cell_type": "code",
   "execution_count": 52,
   "metadata": {},
   "outputs": [
    {
     "name": "stdout",
     "output_type": "stream",
     "text": [
      "\tTrain Loss: 0.630 | Train Acc: 71.20%\n",
      "\t Val. Loss: 0.577 |  Val. Acc: 71.11%\n",
      "\tTrain Loss: 0.539 | Train Acc: 71.20%\n",
      "\t Val. Loss: 0.517 |  Val. Acc: 71.11%\n",
      "\tTrain Loss: 0.355 | Train Acc: 80.80%\n",
      "\t Val. Loss: 0.442 |  Val. Acc: 80.00%\n",
      "\tTrain Loss: 0.143 | Train Acc: 97.60%\n",
      "\t Val. Loss: 0.573 |  Val. Acc: 77.78%\n",
      "\tTrain Loss: 0.081 | Train Acc: 97.60%\n",
      "\t Val. Loss: 0.669 |  Val. Acc: 76.67%\n",
      "\tTrain Loss: 0.072 | Train Acc: 97.20%\n",
      "\t Val. Loss: 0.519 |  Val. Acc: 75.56%\n",
      "\tTrain Loss: 0.044 | Train Acc: 98.80%\n",
      "\t Val. Loss: 0.583 |  Val. Acc: 80.00%\n",
      "\tTrain Loss: 0.033 | Train Acc: 98.80%\n",
      "\t Val. Loss: 0.622 |  Val. Acc: 81.11%\n",
      "\tTrain Loss: 0.037 | Train Acc: 98.00%\n",
      "\t Val. Loss: 0.648 |  Val. Acc: 78.89%\n",
      "\tTrain Loss: 0.028 | Train Acc: 98.80%\n",
      "\t Val. Loss: 0.672 |  Val. Acc: 77.78%\n"
     ]
    }
   ],
   "source": [
    "N_EPOCHS = 10\n",
    "best_valid_loss = float('inf')\n",
    "\n",
    "train_losses = []\n",
    "train_accs = []\n",
    "\n",
    "valid_losses = []\n",
    "valid_accs = []\n",
    "\n",
    "for epoch in range(N_EPOCHS):\n",
    "     \n",
    "    #train the model\n",
    "    train_loss, train_acc = train_funct(model, train_iterator, optimizer, criterion)\n",
    "    train_losses.append(train_loss)\n",
    "    train_accs.append(train_acc)\n",
    "    #evaluate the model\n",
    "    valid_loss, valid_acc = evaluate_funct(model, valid_iterator, criterion)\n",
    "    valid_losses.append(valid_loss)\n",
    "    valid_accs.append(valid_acc)\n",
    "    \n",
    "    #save the best model\n",
    "    if valid_loss < best_valid_loss:\n",
    "        best_valid_loss = valid_loss\n",
    "        torch.save(model.state_dict(), 'saved_weights.pt')\n",
    "    \n",
    "    print(f'\\tTrain Loss: {train_loss:.3f} | Train Acc: {train_acc*100:.2f}%')\n",
    "    print(f'\\t Val. Loss: {valid_loss:.3f} |  Val. Acc: {valid_acc*100:.2f}%')"
   ]
  },
  {
   "cell_type": "markdown",
   "metadata": {},
   "source": [
    "### Plot train data"
   ]
  },
  {
   "cell_type": "code",
   "execution_count": 53,
   "metadata": {},
   "outputs": [],
   "source": [
    "import matplotlib.pyplot as plt"
   ]
  },
  {
   "cell_type": "code",
   "execution_count": 73,
   "metadata": {},
   "outputs": [
    {
     "data": {
      "image/png": "[encoded data removed]",
      "text/plain": [
       "<Figure size 432x288 with 2 Axes>"
      ]
     },
     "metadata": {
      "needs_background": "light"
     },
     "output_type": "display_data"
    }
   ],
   "source": [
    "epochs = range(len(train_losses))\n",
    "\n",
    "fig, ax1 = plt.subplots()\n",
    "ax1.grid()\n",
    "ax2 = ax1.twinx()\n",
    "ax1.plot(epochs, train_losses, 'g-')\n",
    "ax2.plot(epochs, train_accs, 'b-')\n",
    "\n",
    "ax1.set_xlabel('Epoch')\n",
    "ax1.set_ylabel('Loss', color='g')\n",
    "ax2.set_ylabel('Accuracy', color='b')\n",
    "# plt.savefig(\"here.png\")\n",
    "plt.show()"
   ]
  },
  {
   "cell_type": "code",
   "execution_count": null,
   "metadata": {},
   "outputs": [],
   "source": []
  }
 ],
 "metadata": {
  "kernelspec": {
   "display_name": "Python 3",
   "language": "python",
   "name": "python3"
  },
  "language_info": {
   "codemirror_mode": {
    "name": "ipython",
    "version": 3
   },
   "file_extension": ".py",
   "mimetype": "text/x-python",
   "name": "python",
   "nbconvert_exporter": "python",
   "pygments_lexer": "ipython3",
   "version": "3.8.2"
  }
 },
 "nbformat": 4,
 "nbformat_minor": 4
}
